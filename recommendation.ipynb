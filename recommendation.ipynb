{
  "nbformat": 4,
  "nbformat_minor": 0,
  "metadata": {
    "colab": {
      "name": "recommendation.ipynb",
      "version": "0.3.2",
      "provenance": [],
      "toc_visible": true
    },
    "kernelspec": {
      "name": "python3",
      "display_name": "Python 3"
    }
  },
  "cells": [
    {
      "metadata": {
        "id": "HWZ7AvcbgpN3",
        "colab_type": "code",
        "colab": {}
      },
      "cell_type": "code",
      "source": [
        "import pandas as pd\n",
        "import numpy as np\n",
        "import matplotlib.pyplot as plt\n",
        "import seaborn as sns\n",
        "from math import sqrt\n",
        "from sklearn.preprocessing import LabelEncoder"
      ],
      "execution_count": 0,
      "outputs": []
    },
    {
      "metadata": {
        "id": "S-jZP8iyhDyC",
        "colab_type": "code",
        "colab": {
          "base_uri": "https://localhost:8080/",
          "height": 204
        },
        "outputId": "4f098f0a-24c6-4c41-be34-d1266cfc01fb"
      },
      "cell_type": "code",
      "source": [
        "train_csv = pd.read_csv('./train.csv')\n",
        "test_csv = pd.read_csv('./test.csv')\n",
        "train_csv.head()"
      ],
      "execution_count": 2,
      "outputs": [
        {
          "output_type": "execute_result",
          "data": {
            "text/html": [
              "<div>\n",
              "<style scoped>\n",
              "    .dataframe tbody tr th:only-of-type {\n",
              "        vertical-align: middle;\n",
              "    }\n",
              "\n",
              "    .dataframe tbody tr th {\n",
              "        vertical-align: top;\n",
              "    }\n",
              "\n",
              "    .dataframe thead th {\n",
              "        text-align: right;\n",
              "    }\n",
              "</style>\n",
              "<table border=\"1\" class=\"dataframe\">\n",
              "  <thead>\n",
              "    <tr style=\"text-align: right;\">\n",
              "      <th></th>\n",
              "      <th>Viewers_ID</th>\n",
              "      <th>Joke_identifier</th>\n",
              "      <th>Response_ID</th>\n",
              "      <th>Rating</th>\n",
              "    </tr>\n",
              "  </thead>\n",
              "  <tbody>\n",
              "    <tr>\n",
              "      <th>0</th>\n",
              "      <td>A1</td>\n",
              "      <td>Klint De Drunk Enugu 1</td>\n",
              "      <td>A1_Klint De Drunk Enugu 1</td>\n",
              "      <td>0.11</td>\n",
              "    </tr>\n",
              "    <tr>\n",
              "      <th>1</th>\n",
              "      <td>A1</td>\n",
              "      <td>Klint De Drunk Enugu 2</td>\n",
              "      <td>A1_Klint De Drunk Enugu 2</td>\n",
              "      <td>-4.64</td>\n",
              "    </tr>\n",
              "    <tr>\n",
              "      <th>2</th>\n",
              "      <td>A1</td>\n",
              "      <td>Klint De Drunk PH 1</td>\n",
              "      <td>A1_Klint De Drunk PH 1</td>\n",
              "      <td>-3.39</td>\n",
              "    </tr>\n",
              "    <tr>\n",
              "      <th>3</th>\n",
              "      <td>A1</td>\n",
              "      <td>Klint De Drunk PH 2</td>\n",
              "      <td>A1_Klint De Drunk PH 2</td>\n",
              "      <td>0.44</td>\n",
              "    </tr>\n",
              "    <tr>\n",
              "      <th>4</th>\n",
              "      <td>A1</td>\n",
              "      <td>Klint De Drunk Lagos 1</td>\n",
              "      <td>A1_Klint De Drunk Lagos 1</td>\n",
              "      <td>-4.83</td>\n",
              "    </tr>\n",
              "  </tbody>\n",
              "</table>\n",
              "</div>"
            ],
            "text/plain": [
              "  Viewers_ID         Joke_identifier                Response_ID  Rating\n",
              "0         A1  Klint De Drunk Enugu 1  A1_Klint De Drunk Enugu 1    0.11\n",
              "1         A1  Klint De Drunk Enugu 2  A1_Klint De Drunk Enugu 2   -4.64\n",
              "2         A1     Klint De Drunk PH 1     A1_Klint De Drunk PH 1   -3.39\n",
              "3         A1     Klint De Drunk PH 2     A1_Klint De Drunk PH 2    0.44\n",
              "4         A1  Klint De Drunk Lagos 1  A1_Klint De Drunk Lagos 1   -4.83"
            ]
          },
          "metadata": {
            "tags": []
          },
          "execution_count": 2
        }
      ]
    },
    {
      "metadata": {
        "id": "4E5bZdQ0haS6",
        "colab_type": "code",
        "colab": {}
      },
      "cell_type": "code",
      "source": [
        "train_data = train_csv.copy()\n",
        "test_data = test_csv.copy()"
      ],
      "execution_count": 0,
      "outputs": []
    },
    {
      "metadata": {
        "id": "qjVdLZ-7qWV9",
        "colab_type": "text"
      },
      "cell_type": "markdown",
      "source": [
        "# Data Encoding\n",
        "\n",
        "Change viewers id  and jokes id text data to their numeric values."
      ]
    },
    {
      "metadata": {
        "id": "h8Sedodkhgqu",
        "colab_type": "code",
        "colab": {}
      },
      "cell_type": "code",
      "source": [
        "def redefine_viewers_id(dataset):\n",
        "    dataset['Viewers_ID'] = dataset['Viewers_ID'].str.slice(1)\n",
        "\n",
        "redefine_viewers_id(train_data)\n",
        "redefine_viewers_id(test_data)\n",
        "train_data['Viewers_ID'] = train_data['Viewers_ID'].astype('int32')\n",
        "test_data['Viewers_ID'] = test_data['Viewers_ID'].astype('int32')"
      ],
      "execution_count": 0,
      "outputs": []
    },
    {
      "metadata": {
        "id": "W5TilhQGhin3",
        "colab_type": "code",
        "colab": {}
      },
      "cell_type": "code",
      "source": [
        "jokes = train_data['Joke_identifier'].unique()\n",
        "test_jokes = test_data['Joke_identifier'].unique()\n",
        "jokes = np.append(jokes, test_jokes)\n",
        "jokes = np.unique(jokes)\n",
        "le = LabelEncoder()\n",
        "le.fit(jokes)\n",
        "def create_joke_id(dataset):\n",
        "    dataset['Jokes_ID'] = le.transform(dataset['Joke_identifier'])\n",
        "    \n",
        "create_joke_id(train_data)\n",
        "create_joke_id(test_data)"
      ],
      "execution_count": 0,
      "outputs": []
    },
    {
      "metadata": {
        "id": "aGnoF1xqquqb",
        "colab_type": "text"
      },
      "cell_type": "markdown",
      "source": [
        "# Data Splitting\n",
        "\n",
        "Split joke identifier into comedians, version and place. This is important for the data augmentation process."
      ]
    },
    {
      "metadata": {
        "id": "bz9fTigRhlHN",
        "colab_type": "code",
        "colab": {}
      },
      "cell_type": "code",
      "source": [
        "train_data['Version'] = train_data['Joke_identifier'].apply(lambda x: x.split()[-1])\n",
        "test_data['Version'] = test_data['Joke_identifier'].apply(lambda x: x.split()[-1])"
      ],
      "execution_count": 0,
      "outputs": []
    },
    {
      "metadata": {
        "id": "lFjnTW36hobF",
        "colab_type": "code",
        "colab": {}
      },
      "cell_type": "code",
      "source": [
        "train_data['Version'] = train_data['Version'].astype('int32')\n",
        "test_data['Version'] = test_data['Version'].astype('int32')"
      ],
      "execution_count": 0,
      "outputs": []
    },
    {
      "metadata": {
        "id": "lAiKjQNOh5An",
        "colab_type": "code",
        "colab": {}
      },
      "cell_type": "code",
      "source": [
        "test_data['Place'] = test_data['Joke_identifier'].apply(lambda x: x.split()[-2])\n",
        "train_data['Place'] = train_data['Joke_identifier'].apply(lambda x: x.split()[-2])\n",
        "test_data['Commedian'] = test_data['Joke_identifier'].apply(lambda x: x.split()[0:-2])\n",
        "train_data['Commedian'] = train_data['Joke_identifier'].apply(lambda x: x.split()[0:-2])"
      ],
      "execution_count": 0,
      "outputs": []
    },
    {
      "metadata": {
        "id": "86x_qoRjh-Pe",
        "colab_type": "code",
        "colab": {}
      },
      "cell_type": "code",
      "source": [
        "test_data['Commedian'] = test_data['Commedian'].apply(lambda x: \" \".join(x))\n",
        "train_data['Commedian'] = train_data['Commedian'].apply(lambda x: \" \".join(x))"
      ],
      "execution_count": 0,
      "outputs": []
    },
    {
      "metadata": {
        "id": "H7j0QUMurIRR",
        "colab_type": "text"
      },
      "cell_type": "markdown",
      "source": [
        "# Data Correction And Encoding\n",
        "Encode this splitted values. This step also includes correcting some of the wrong values produced by the process above."
      ]
    },
    {
      "metadata": {
        "id": "a2KkCFWiiB3j",
        "colab_type": "code",
        "colab": {
          "base_uri": "https://localhost:8080/",
          "height": 89
        },
        "outputId": "2ca21c29-4fa4-42ff-c0fd-c2e097f98af2"
      },
      "cell_type": "code",
      "source": [
        "commedians = train_data['Commedian'].unique()\n",
        "commedians = np.append(commedians, test_data['Commedian'].unique())\n",
        "commedians = np.unique(commedians)\n",
        "commedians"
      ],
      "execution_count": 10,
      "outputs": [
        {
          "output_type": "execute_result",
          "data": {
            "text/plain": [
              "array(['AY', 'Akpororo', 'AliBaba', 'AliBaba Aso', 'BasketMouth', 'Bovi',\n",
              "       'Funny Bone', 'Gordons', 'Helen Paul', 'I Go Dye',\n",
              "       'Klint De Drunk', 'MisterIbu', 'Okey Bakassi', 'Saka', 'Seyi Law'],\n",
              "      dtype=object)"
            ]
          },
          "metadata": {
            "tags": []
          },
          "execution_count": 10
        }
      ]
    },
    {
      "metadata": {
        "id": "dPrwonT2iGTF",
        "colab_type": "code",
        "colab": {}
      },
      "cell_type": "code",
      "source": [
        "commedians = np.delete(commedians, 3)"
      ],
      "execution_count": 0,
      "outputs": []
    },
    {
      "metadata": {
        "id": "kNnuKnbTiLVh",
        "colab_type": "code",
        "colab": {}
      },
      "cell_type": "code",
      "source": [
        "places = np.unique(np.append(train_data['Place'].unique(), test_data['Place'].unique()))"
      ],
      "execution_count": 0,
      "outputs": []
    },
    {
      "metadata": {
        "id": "IUV5LNs_Ced-",
        "colab_type": "code",
        "colab": {
          "base_uri": "https://localhost:8080/",
          "height": 53
        },
        "outputId": "4ce1e4e7-2cfd-41b7-bfb1-9ece5bb9ff78"
      },
      "cell_type": "code",
      "source": [
        "places[7] = \"Aso Rock\"\n",
        "places"
      ],
      "execution_count": 13,
      "outputs": [
        {
          "output_type": "execute_result",
          "data": {
            "text/plain": [
              "array(['Abuja', 'Benin', 'Enugu', 'Ibadan', 'Lagos', 'Owerri', 'PH',\n",
              "       'Aso Rock', 'Uyo', 'Warri'], dtype=object)"
            ]
          },
          "metadata": {
            "tags": []
          },
          "execution_count": 13
        }
      ]
    },
    {
      "metadata": {
        "id": "7052RoajCh2b",
        "colab_type": "code",
        "colab": {}
      },
      "cell_type": "code",
      "source": [
        "def repair_commedian(x):\n",
        "    if x[\"Commedian\"] == \"AliBaba Aso\":\n",
        "        return \"AliBaba\"\n",
        "    else:\n",
        "        return x[\"Commedian\"]\n",
        "\n",
        "def repair_place(x):\n",
        "    if x[\"Place\"] == \"Rock\":\n",
        "        return \"Aso Rock\"\n",
        "    else:\n",
        "        return x[\"Place\"]\n",
        "train_data[\"Place\"] = train_data.apply(repair_place, axis=1)\n",
        "train_data[\"Commedian\"] = train_data.apply(repair_commedian, axis=1)"
      ],
      "execution_count": 0,
      "outputs": []
    },
    {
      "metadata": {
        "id": "1kn3q5PhCrEZ",
        "colab_type": "code",
        "colab": {
          "base_uri": "https://localhost:8080/",
          "height": 684
        },
        "outputId": "c4dd4f27-e257-4f38-9468-64b289b1b09a"
      },
      "cell_type": "code",
      "source": [
        "train_data.sample(15)"
      ],
      "execution_count": 15,
      "outputs": [
        {
          "output_type": "execute_result",
          "data": {
            "text/html": [
              "<div>\n",
              "<style scoped>\n",
              "    .dataframe tbody tr th:only-of-type {\n",
              "        vertical-align: middle;\n",
              "    }\n",
              "\n",
              "    .dataframe tbody tr th {\n",
              "        vertical-align: top;\n",
              "    }\n",
              "\n",
              "    .dataframe thead th {\n",
              "        text-align: right;\n",
              "    }\n",
              "</style>\n",
              "<table border=\"1\" class=\"dataframe\">\n",
              "  <thead>\n",
              "    <tr style=\"text-align: right;\">\n",
              "      <th></th>\n",
              "      <th>Viewers_ID</th>\n",
              "      <th>Joke_identifier</th>\n",
              "      <th>Response_ID</th>\n",
              "      <th>Rating</th>\n",
              "      <th>Jokes_ID</th>\n",
              "      <th>Version</th>\n",
              "      <th>Place</th>\n",
              "      <th>Commedian</th>\n",
              "    </tr>\n",
              "  </thead>\n",
              "  <tbody>\n",
              "    <tr>\n",
              "      <th>383058</th>\n",
              "      <td>32536</td>\n",
              "      <td>Klint De Drunk Enugu 2</td>\n",
              "      <td>A32536_Klint De Drunk Enugu 2</td>\n",
              "      <td>1.91</td>\n",
              "      <td>97</td>\n",
              "      <td>2</td>\n",
              "      <td>Enugu</td>\n",
              "      <td>Klint De Drunk</td>\n",
              "    </tr>\n",
              "    <tr>\n",
              "      <th>602592</th>\n",
              "      <td>9390</td>\n",
              "      <td>Klint De Drunk PH 2</td>\n",
              "      <td>A9390_Klint De Drunk PH 2</td>\n",
              "      <td>0.61</td>\n",
              "      <td>103</td>\n",
              "      <td>2</td>\n",
              "      <td>PH</td>\n",
              "      <td>Klint De Drunk</td>\n",
              "    </tr>\n",
              "    <tr>\n",
              "      <th>21301</th>\n",
              "      <td>1133</td>\n",
              "      <td>Klint De Drunk Enugu 2</td>\n",
              "      <td>A1133_Klint De Drunk Enugu 2</td>\n",
              "      <td>0.19</td>\n",
              "      <td>97</td>\n",
              "      <td>2</td>\n",
              "      <td>Enugu</td>\n",
              "      <td>Klint De Drunk</td>\n",
              "    </tr>\n",
              "    <tr>\n",
              "      <th>9525</th>\n",
              "      <td>10596</td>\n",
              "      <td>AliBaba PH 5</td>\n",
              "      <td>A10596_AliBaba PH 5</td>\n",
              "      <td>0.89</td>\n",
              "      <td>36</td>\n",
              "      <td>5</td>\n",
              "      <td>PH</td>\n",
              "      <td>AliBaba</td>\n",
              "    </tr>\n",
              "    <tr>\n",
              "      <th>208780</th>\n",
              "      <td>22819</td>\n",
              "      <td>Klint De Drunk Lagos 1</td>\n",
              "      <td>A22819_Klint De Drunk Lagos 1</td>\n",
              "      <td>3.69</td>\n",
              "      <td>99</td>\n",
              "      <td>1</td>\n",
              "      <td>Lagos</td>\n",
              "      <td>Klint De Drunk</td>\n",
              "    </tr>\n",
              "    <tr>\n",
              "      <th>293037</th>\n",
              "      <td>27462</td>\n",
              "      <td>Klint De Drunk Enugu 3</td>\n",
              "      <td>A27462_Klint De Drunk Enugu 3</td>\n",
              "      <td>0.44</td>\n",
              "      <td>98</td>\n",
              "      <td>3</td>\n",
              "      <td>Enugu</td>\n",
              "      <td>Klint De Drunk</td>\n",
              "    </tr>\n",
              "    <tr>\n",
              "      <th>275732</th>\n",
              "      <td>26461</td>\n",
              "      <td>I Go Dye Uyo 2</td>\n",
              "      <td>A26461_I Go Dye Uyo 2</td>\n",
              "      <td>4.03</td>\n",
              "      <td>95</td>\n",
              "      <td>2</td>\n",
              "      <td>Uyo</td>\n",
              "      <td>I Go Dye</td>\n",
              "    </tr>\n",
              "    <tr>\n",
              "      <th>159608</th>\n",
              "      <td>20069</td>\n",
              "      <td>BasketMouth Lagos 1</td>\n",
              "      <td>A20069_BasketMouth Lagos 1</td>\n",
              "      <td>2.53</td>\n",
              "      <td>40</td>\n",
              "      <td>1</td>\n",
              "      <td>Lagos</td>\n",
              "      <td>BasketMouth</td>\n",
              "    </tr>\n",
              "    <tr>\n",
              "      <th>347036</th>\n",
              "      <td>30568</td>\n",
              "      <td>AY Lagos 3</td>\n",
              "      <td>A30568_AY Lagos 3</td>\n",
              "      <td>3.06</td>\n",
              "      <td>5</td>\n",
              "      <td>3</td>\n",
              "      <td>Lagos</td>\n",
              "      <td>AY</td>\n",
              "    </tr>\n",
              "    <tr>\n",
              "      <th>86540</th>\n",
              "      <td>15745</td>\n",
              "      <td>AliBaba Abuja 1</td>\n",
              "      <td>A15745_AliBaba Abuja 1</td>\n",
              "      <td>-1.91</td>\n",
              "      <td>22</td>\n",
              "      <td>1</td>\n",
              "      <td>Abuja</td>\n",
              "      <td>AliBaba</td>\n",
              "    </tr>\n",
              "    <tr>\n",
              "      <th>500611</th>\n",
              "      <td>39508</td>\n",
              "      <td>Klint De Drunk Lagos 1</td>\n",
              "      <td>A39508_Klint De Drunk Lagos 1</td>\n",
              "      <td>2.42</td>\n",
              "      <td>99</td>\n",
              "      <td>1</td>\n",
              "      <td>Lagos</td>\n",
              "      <td>Klint De Drunk</td>\n",
              "    </tr>\n",
              "    <tr>\n",
              "      <th>602609</th>\n",
              "      <td>9392</td>\n",
              "      <td>Klint De Drunk Enugu 3</td>\n",
              "      <td>A9392_Klint De Drunk Enugu 3</td>\n",
              "      <td>-4.48</td>\n",
              "      <td>98</td>\n",
              "      <td>3</td>\n",
              "      <td>Enugu</td>\n",
              "      <td>Klint De Drunk</td>\n",
              "    </tr>\n",
              "    <tr>\n",
              "      <th>421447</th>\n",
              "      <td>34801</td>\n",
              "      <td>Klint De Drunk Enugu 2</td>\n",
              "      <td>A34801_Klint De Drunk Enugu 2</td>\n",
              "      <td>3.41</td>\n",
              "      <td>97</td>\n",
              "      <td>2</td>\n",
              "      <td>Enugu</td>\n",
              "      <td>Klint De Drunk</td>\n",
              "    </tr>\n",
              "    <tr>\n",
              "      <th>518248</th>\n",
              "      <td>40643</td>\n",
              "      <td>AliBaba Abuja 3</td>\n",
              "      <td>A40643_AliBaba Abuja 3</td>\n",
              "      <td>-2.39</td>\n",
              "      <td>24</td>\n",
              "      <td>3</td>\n",
              "      <td>Abuja</td>\n",
              "      <td>AliBaba</td>\n",
              "    </tr>\n",
              "    <tr>\n",
              "      <th>591652</th>\n",
              "      <td>8761</td>\n",
              "      <td>Seyi Law Ibadan 2</td>\n",
              "      <td>A8761_Seyi Law Ibadan 2</td>\n",
              "      <td>2.52</td>\n",
              "      <td>134</td>\n",
              "      <td>2</td>\n",
              "      <td>Ibadan</td>\n",
              "      <td>Seyi Law</td>\n",
              "    </tr>\n",
              "  </tbody>\n",
              "</table>\n",
              "</div>"
            ],
            "text/plain": [
              "        Viewers_ID         Joke_identifier                    Response_ID  \\\n",
              "383058       32536  Klint De Drunk Enugu 2  A32536_Klint De Drunk Enugu 2   \n",
              "602592        9390     Klint De Drunk PH 2      A9390_Klint De Drunk PH 2   \n",
              "21301         1133  Klint De Drunk Enugu 2   A1133_Klint De Drunk Enugu 2   \n",
              "9525         10596            AliBaba PH 5            A10596_AliBaba PH 5   \n",
              "208780       22819  Klint De Drunk Lagos 1  A22819_Klint De Drunk Lagos 1   \n",
              "293037       27462  Klint De Drunk Enugu 3  A27462_Klint De Drunk Enugu 3   \n",
              "275732       26461          I Go Dye Uyo 2          A26461_I Go Dye Uyo 2   \n",
              "159608       20069     BasketMouth Lagos 1     A20069_BasketMouth Lagos 1   \n",
              "347036       30568              AY Lagos 3              A30568_AY Lagos 3   \n",
              "86540        15745         AliBaba Abuja 1         A15745_AliBaba Abuja 1   \n",
              "500611       39508  Klint De Drunk Lagos 1  A39508_Klint De Drunk Lagos 1   \n",
              "602609        9392  Klint De Drunk Enugu 3   A9392_Klint De Drunk Enugu 3   \n",
              "421447       34801  Klint De Drunk Enugu 2  A34801_Klint De Drunk Enugu 2   \n",
              "518248       40643         AliBaba Abuja 3         A40643_AliBaba Abuja 3   \n",
              "591652        8761       Seyi Law Ibadan 2        A8761_Seyi Law Ibadan 2   \n",
              "\n",
              "        Rating  Jokes_ID  Version   Place       Commedian  \n",
              "383058    1.91        97        2   Enugu  Klint De Drunk  \n",
              "602592    0.61       103        2      PH  Klint De Drunk  \n",
              "21301     0.19        97        2   Enugu  Klint De Drunk  \n",
              "9525      0.89        36        5      PH         AliBaba  \n",
              "208780    3.69        99        1   Lagos  Klint De Drunk  \n",
              "293037    0.44        98        3   Enugu  Klint De Drunk  \n",
              "275732    4.03        95        2     Uyo        I Go Dye  \n",
              "159608    2.53        40        1   Lagos     BasketMouth  \n",
              "347036    3.06         5        3   Lagos              AY  \n",
              "86540    -1.91        22        1   Abuja         AliBaba  \n",
              "500611    2.42        99        1   Lagos  Klint De Drunk  \n",
              "602609   -4.48        98        3   Enugu  Klint De Drunk  \n",
              "421447    3.41        97        2   Enugu  Klint De Drunk  \n",
              "518248   -2.39        24        3   Abuja         AliBaba  \n",
              "591652    2.52       134        2  Ibadan        Seyi Law  "
            ]
          },
          "metadata": {
            "tags": []
          },
          "execution_count": 15
        }
      ]
    },
    {
      "metadata": {
        "id": "UvmyWa0eCwIh",
        "colab_type": "code",
        "colab": {}
      },
      "cell_type": "code",
      "source": [
        "test_data[\"Place\"] = test_data.apply(repair_place, axis=1)\n",
        "test_data[\"Commedian\"] = test_data.apply(repair_commedian, axis=1)"
      ],
      "execution_count": 0,
      "outputs": []
    },
    {
      "metadata": {
        "id": "4BrrZm-GC5tI",
        "colab_type": "code",
        "colab": {}
      },
      "cell_type": "code",
      "source": [
        "le = LabelEncoder()\n",
        "le.fit(commedians)\n",
        "def create_commedian_id(dataset):\n",
        "    dataset['Commedian_ID'] = le.transform(dataset['Commedian'])\n",
        "    \n",
        "create_commedian_id(train_data)\n",
        "create_commedian_id(test_data)"
      ],
      "execution_count": 0,
      "outputs": []
    },
    {
      "metadata": {
        "id": "2G2L2WZsC7xb",
        "colab_type": "code",
        "colab": {}
      },
      "cell_type": "code",
      "source": [
        "le = LabelEncoder()\n",
        "le.fit(places)\n",
        "def create_place_id(dataset):\n",
        "    dataset['Place_ID'] = le.transform(dataset['Place'])\n",
        "    \n",
        "create_place_id(train_data)\n",
        "create_place_id(test_data)"
      ],
      "execution_count": 0,
      "outputs": []
    },
    {
      "metadata": {
        "id": "OVBN3Y8nC-Rd",
        "colab_type": "code",
        "colab": {
          "base_uri": "https://localhost:8080/",
          "height": 343
        },
        "outputId": "7a692225-df8d-4a4d-f3b2-8c2aaf9ae1c6"
      },
      "cell_type": "code",
      "source": [
        "train_data.head()"
      ],
      "execution_count": 19,
      "outputs": [
        {
          "output_type": "execute_result",
          "data": {
            "text/html": [
              "<div>\n",
              "<style scoped>\n",
              "    .dataframe tbody tr th:only-of-type {\n",
              "        vertical-align: middle;\n",
              "    }\n",
              "\n",
              "    .dataframe tbody tr th {\n",
              "        vertical-align: top;\n",
              "    }\n",
              "\n",
              "    .dataframe thead th {\n",
              "        text-align: right;\n",
              "    }\n",
              "</style>\n",
              "<table border=\"1\" class=\"dataframe\">\n",
              "  <thead>\n",
              "    <tr style=\"text-align: right;\">\n",
              "      <th></th>\n",
              "      <th>Viewers_ID</th>\n",
              "      <th>Joke_identifier</th>\n",
              "      <th>Response_ID</th>\n",
              "      <th>Rating</th>\n",
              "      <th>Jokes_ID</th>\n",
              "      <th>Version</th>\n",
              "      <th>Place</th>\n",
              "      <th>Commedian</th>\n",
              "      <th>Commedian_ID</th>\n",
              "      <th>Place_ID</th>\n",
              "    </tr>\n",
              "  </thead>\n",
              "  <tbody>\n",
              "    <tr>\n",
              "      <th>0</th>\n",
              "      <td>1</td>\n",
              "      <td>Klint De Drunk Enugu 1</td>\n",
              "      <td>A1_Klint De Drunk Enugu 1</td>\n",
              "      <td>0.11</td>\n",
              "      <td>96</td>\n",
              "      <td>1</td>\n",
              "      <td>Enugu</td>\n",
              "      <td>Klint De Drunk</td>\n",
              "      <td>9</td>\n",
              "      <td>3</td>\n",
              "    </tr>\n",
              "    <tr>\n",
              "      <th>1</th>\n",
              "      <td>1</td>\n",
              "      <td>Klint De Drunk Enugu 2</td>\n",
              "      <td>A1_Klint De Drunk Enugu 2</td>\n",
              "      <td>-4.64</td>\n",
              "      <td>97</td>\n",
              "      <td>2</td>\n",
              "      <td>Enugu</td>\n",
              "      <td>Klint De Drunk</td>\n",
              "      <td>9</td>\n",
              "      <td>3</td>\n",
              "    </tr>\n",
              "    <tr>\n",
              "      <th>2</th>\n",
              "      <td>1</td>\n",
              "      <td>Klint De Drunk PH 1</td>\n",
              "      <td>A1_Klint De Drunk PH 1</td>\n",
              "      <td>-3.39</td>\n",
              "      <td>102</td>\n",
              "      <td>1</td>\n",
              "      <td>PH</td>\n",
              "      <td>Klint De Drunk</td>\n",
              "      <td>9</td>\n",
              "      <td>7</td>\n",
              "    </tr>\n",
              "    <tr>\n",
              "      <th>3</th>\n",
              "      <td>1</td>\n",
              "      <td>Klint De Drunk PH 2</td>\n",
              "      <td>A1_Klint De Drunk PH 2</td>\n",
              "      <td>0.44</td>\n",
              "      <td>103</td>\n",
              "      <td>2</td>\n",
              "      <td>PH</td>\n",
              "      <td>Klint De Drunk</td>\n",
              "      <td>9</td>\n",
              "      <td>7</td>\n",
              "    </tr>\n",
              "    <tr>\n",
              "      <th>4</th>\n",
              "      <td>1</td>\n",
              "      <td>Klint De Drunk Lagos 1</td>\n",
              "      <td>A1_Klint De Drunk Lagos 1</td>\n",
              "      <td>-4.83</td>\n",
              "      <td>99</td>\n",
              "      <td>1</td>\n",
              "      <td>Lagos</td>\n",
              "      <td>Klint De Drunk</td>\n",
              "      <td>9</td>\n",
              "      <td>5</td>\n",
              "    </tr>\n",
              "  </tbody>\n",
              "</table>\n",
              "</div>"
            ],
            "text/plain": [
              "   Viewers_ID         Joke_identifier                Response_ID  Rating  \\\n",
              "0           1  Klint De Drunk Enugu 1  A1_Klint De Drunk Enugu 1    0.11   \n",
              "1           1  Klint De Drunk Enugu 2  A1_Klint De Drunk Enugu 2   -4.64   \n",
              "2           1     Klint De Drunk PH 1     A1_Klint De Drunk PH 1   -3.39   \n",
              "3           1     Klint De Drunk PH 2     A1_Klint De Drunk PH 2    0.44   \n",
              "4           1  Klint De Drunk Lagos 1  A1_Klint De Drunk Lagos 1   -4.83   \n",
              "\n",
              "   Jokes_ID  Version  Place       Commedian  Commedian_ID  Place_ID  \n",
              "0        96        1  Enugu  Klint De Drunk             9         3  \n",
              "1        97        2  Enugu  Klint De Drunk             9         3  \n",
              "2       102        1     PH  Klint De Drunk             9         7  \n",
              "3       103        2     PH  Klint De Drunk             9         7  \n",
              "4        99        1  Lagos  Klint De Drunk             9         5  "
            ]
          },
          "metadata": {
            "tags": []
          },
          "execution_count": 19
        }
      ]
    },
    {
      "metadata": {
        "id": "Jjg4feCFsAS5",
        "colab_type": "text"
      },
      "cell_type": "markdown",
      "source": [
        "# Augmentation Process\n",
        "This process looks for low variance relationship (in terms of ratings) between a user and a comedian, place and version in the training set and when it finds it, it uses the mean of the ratings as a predicted value in the test row.\n",
        "\n",
        "If it does not find it, it gives that test row a rating of zero. It then looks for all the non-zero ratings rows in the test set and then adds them all to the training set. \n",
        "\n",
        "Note that it ignores comedians which have large number of rows in the train set and sets their test set values to zero."
      ]
    },
    {
      "metadata": {
        "id": "a9eNcFvuDHhR",
        "colab_type": "code",
        "colab": {}
      },
      "cell_type": "code",
      "source": [
        "\"\"\"\n",
        "  Get the pandas group for a particular user by first trying to get it from the \n",
        "  cache. If the group is already stored in the cache, it returns it but if not \n",
        "  it calculates it with pandas and the adds the group to the cache. This speeds \n",
        "  up the data augmentation process\n",
        "\"\"\" \n",
        "pandas_dict = {}\n",
        "def get_data_group(user_id):\n",
        "  if user_id in pandas_dict:\n",
        "    user_data = pandas_dict[user_id]\n",
        "  else:\n",
        "    user_data = train_data.groupby('Viewers_ID').get_group(user_id)\n",
        "    pandas_dict[user_id] = user_data\n",
        "  return user_data"
      ],
      "execution_count": 0,
      "outputs": []
    },
    {
      "metadata": {
        "id": "v6wxACwbEEuV",
        "colab_type": "code",
        "colab": {}
      },
      "cell_type": "code",
      "source": [
        "#Function for predicting the rating for a commedian using low variance condition.\n",
        "def predict_rating(data):\n",
        "  ignore_commedians = ['AY', 'Akpororo', 'AliBaba', 'BasketMouth', 'Bovi', 'I Go Dye', 'Klint De Drunk']\n",
        "  user_id = data['Viewers_ID']\n",
        "  user_place = data['Place_ID']\n",
        "  user_commedian = data['Commedian_ID']\n",
        "  user_version = data['Version']\n",
        "  user_group = get_data_group(user_id)\n",
        "  if data['Commedian'] in ignore_commedians:\n",
        "    return 0\n",
        "  if user_commedian in user_group['Commedian_ID'].values:\n",
        "    commedian_group = user_group.groupby('Commedian_ID').get_group(user_commedian)\n",
        "    if commedian_group['Rating'].count() > 1:\n",
        "      if commedian_group['Rating'].std() <= 1 and commedian_group['Rating'].std() >= -1:\n",
        "        rating = commedian_group['Rating'].mean()\n",
        "        return rating\n",
        "      \n",
        "  if user_place in user_group['Place_ID'].values:\n",
        "    place_group = user_group.groupby('Place_ID').get_group(user_place)\n",
        "    if place_group['Rating'].count() > 1:\n",
        "      if place_group['Rating'].std() <= 0.6 and place_group['Rating'].std() >= -0.6:\n",
        "        rating = place_group['Rating'].mean()\n",
        "        return rating\n",
        "      \n",
        "  if user_version in user_group['Version'].values:\n",
        "    version_group = user_group.groupby('Version').get_group(user_version)\n",
        "    if version_group['Rating'].count() > 1:\n",
        "      if version_group['Rating'].std() <= 0.6 and version_group['Rating'].std() >= -0.6:\n",
        "        rating = version_group['Rating'].mean()\n",
        "        return rating\n",
        "  return 0"
      ],
      "execution_count": 0,
      "outputs": []
    },
    {
      "metadata": {
        "id": "XzOh4RD1Iv7S",
        "colab_type": "code",
        "colab": {
          "base_uri": "https://localhost:8080/",
          "height": 2007
        },
        "outputId": "7585be4b-61fb-4113-c8ca-cdfa09e971b6"
      },
      "cell_type": "code",
      "source": [
        "def define_prediction(x):\n",
        "  pred = predict_rating(x)\n",
        "  return pred\n",
        "\n",
        "test_data['Rating'] = test_data.apply(define_prediction, axis=1)"
      ],
      "execution_count": 23,
      "outputs": [
        {
          "output_type": "error",
          "ename": "KeyboardInterrupt",
          "evalue": "ignored",
          "traceback": [
            "\u001b[0;31m---------------------------------------------------------------------------\u001b[0m",
            "\u001b[0;31mKeyboardInterrupt\u001b[0m                         Traceback (most recent call last)",
            "\u001b[0;32m<ipython-input-23-67012b15d2b0>\u001b[0m in \u001b[0;36m<module>\u001b[0;34m()\u001b[0m\n\u001b[1;32m      3\u001b[0m   \u001b[0;32mreturn\u001b[0m \u001b[0mpred\u001b[0m\u001b[0;34m\u001b[0m\u001b[0m\n\u001b[1;32m      4\u001b[0m \u001b[0;34m\u001b[0m\u001b[0m\n\u001b[0;32m----> 5\u001b[0;31m \u001b[0mtest_data\u001b[0m\u001b[0;34m[\u001b[0m\u001b[0;34m'Rating'\u001b[0m\u001b[0;34m]\u001b[0m \u001b[0;34m=\u001b[0m \u001b[0mtest_data\u001b[0m\u001b[0;34m.\u001b[0m\u001b[0mapply\u001b[0m\u001b[0;34m(\u001b[0m\u001b[0mdefine_prediction\u001b[0m\u001b[0;34m,\u001b[0m \u001b[0maxis\u001b[0m\u001b[0;34m=\u001b[0m\u001b[0;36m1\u001b[0m\u001b[0;34m)\u001b[0m\u001b[0;34m\u001b[0m\u001b[0m\n\u001b[0m",
            "\u001b[0;32m/usr/local/lib/python3.6/dist-packages/pandas/core/frame.py\u001b[0m in \u001b[0;36mapply\u001b[0;34m(self, func, axis, broadcast, raw, reduce, args, **kwds)\u001b[0m\n\u001b[1;32m   4875\u001b[0m                         \u001b[0mf\u001b[0m\u001b[0;34m,\u001b[0m \u001b[0maxis\u001b[0m\u001b[0;34m,\u001b[0m\u001b[0;34m\u001b[0m\u001b[0m\n\u001b[1;32m   4876\u001b[0m                         \u001b[0mreduce\u001b[0m\u001b[0;34m=\u001b[0m\u001b[0mreduce\u001b[0m\u001b[0;34m,\u001b[0m\u001b[0;34m\u001b[0m\u001b[0m\n\u001b[0;32m-> 4877\u001b[0;31m                         ignore_failures=ignore_failures)\n\u001b[0m\u001b[1;32m   4878\u001b[0m             \u001b[0;32melse\u001b[0m\u001b[0;34m:\u001b[0m\u001b[0;34m\u001b[0m\u001b[0m\n\u001b[1;32m   4879\u001b[0m                 \u001b[0;32mreturn\u001b[0m \u001b[0mself\u001b[0m\u001b[0;34m.\u001b[0m\u001b[0m_apply_broadcast\u001b[0m\u001b[0;34m(\u001b[0m\u001b[0mf\u001b[0m\u001b[0;34m,\u001b[0m \u001b[0maxis\u001b[0m\u001b[0;34m)\u001b[0m\u001b[0;34m\u001b[0m\u001b[0m\n",
            "\u001b[0;32m/usr/local/lib/python3.6/dist-packages/pandas/core/frame.py\u001b[0m in \u001b[0;36m_apply_standard\u001b[0;34m(self, func, axis, ignore_failures, reduce)\u001b[0m\n\u001b[1;32m   4931\u001b[0m                     \u001b[0mlabels\u001b[0m \u001b[0;34m=\u001b[0m \u001b[0mself\u001b[0m\u001b[0;34m.\u001b[0m\u001b[0m_get_agg_axis\u001b[0m\u001b[0;34m(\u001b[0m\u001b[0maxis\u001b[0m\u001b[0;34m)\u001b[0m\u001b[0;34m\u001b[0m\u001b[0m\n\u001b[1;32m   4932\u001b[0m                     result = lib.reduce(values, func, axis=axis, dummy=dummy,\n\u001b[0;32m-> 4933\u001b[0;31m                                         labels=labels)\n\u001b[0m\u001b[1;32m   4934\u001b[0m                     \u001b[0;32mreturn\u001b[0m \u001b[0mSeries\u001b[0m\u001b[0;34m(\u001b[0m\u001b[0mresult\u001b[0m\u001b[0;34m,\u001b[0m \u001b[0mindex\u001b[0m\u001b[0;34m=\u001b[0m\u001b[0mlabels\u001b[0m\u001b[0;34m)\u001b[0m\u001b[0;34m\u001b[0m\u001b[0m\n\u001b[1;32m   4935\u001b[0m                 \u001b[0;32mexcept\u001b[0m \u001b[0mException\u001b[0m\u001b[0;34m:\u001b[0m\u001b[0;34m\u001b[0m\u001b[0m\n",
            "\u001b[0;32mpandas/_libs/src/reduce.pyx\u001b[0m in \u001b[0;36mpandas._libs.lib.reduce\u001b[0;34m()\u001b[0m\n",
            "\u001b[0;32mpandas/_libs/src/reduce.pyx\u001b[0m in \u001b[0;36mpandas._libs.lib.Reducer.get_result\u001b[0;34m()\u001b[0m\n",
            "\u001b[0;32m<ipython-input-23-67012b15d2b0>\u001b[0m in \u001b[0;36mdefine_prediction\u001b[0;34m(x)\u001b[0m\n\u001b[1;32m      1\u001b[0m \u001b[0;32mdef\u001b[0m \u001b[0mdefine_prediction\u001b[0m\u001b[0;34m(\u001b[0m\u001b[0mx\u001b[0m\u001b[0;34m)\u001b[0m\u001b[0;34m:\u001b[0m\u001b[0;34m\u001b[0m\u001b[0m\n\u001b[0;32m----> 2\u001b[0;31m   \u001b[0mpred\u001b[0m \u001b[0;34m=\u001b[0m \u001b[0mpredict_rating\u001b[0m\u001b[0;34m(\u001b[0m\u001b[0mx\u001b[0m\u001b[0;34m)\u001b[0m\u001b[0;34m\u001b[0m\u001b[0m\n\u001b[0m\u001b[1;32m      3\u001b[0m   \u001b[0;32mreturn\u001b[0m \u001b[0mpred\u001b[0m\u001b[0;34m\u001b[0m\u001b[0m\n\u001b[1;32m      4\u001b[0m \u001b[0;34m\u001b[0m\u001b[0m\n\u001b[1;32m      5\u001b[0m \u001b[0mtest_data\u001b[0m\u001b[0;34m[\u001b[0m\u001b[0;34m'Rating'\u001b[0m\u001b[0;34m]\u001b[0m \u001b[0;34m=\u001b[0m \u001b[0mtest_data\u001b[0m\u001b[0;34m.\u001b[0m\u001b[0mapply\u001b[0m\u001b[0;34m(\u001b[0m\u001b[0mdefine_prediction\u001b[0m\u001b[0;34m,\u001b[0m \u001b[0maxis\u001b[0m\u001b[0;34m=\u001b[0m\u001b[0;36m1\u001b[0m\u001b[0;34m)\u001b[0m\u001b[0;34m\u001b[0m\u001b[0m\n",
            "\u001b[0;32m<ipython-input-22-5a98d9e7d13a>\u001b[0m in \u001b[0;36mpredict_rating\u001b[0;34m(data)\u001b[0m\n\u001b[1;32m      6\u001b[0m   \u001b[0muser_commedian\u001b[0m \u001b[0;34m=\u001b[0m \u001b[0mdata\u001b[0m\u001b[0;34m[\u001b[0m\u001b[0;34m'Commedian_ID'\u001b[0m\u001b[0;34m]\u001b[0m\u001b[0;34m\u001b[0m\u001b[0m\n\u001b[1;32m      7\u001b[0m   \u001b[0muser_version\u001b[0m \u001b[0;34m=\u001b[0m \u001b[0mdata\u001b[0m\u001b[0;34m[\u001b[0m\u001b[0;34m'Version'\u001b[0m\u001b[0;34m]\u001b[0m\u001b[0;34m\u001b[0m\u001b[0m\n\u001b[0;32m----> 8\u001b[0;31m   \u001b[0muser_group\u001b[0m \u001b[0;34m=\u001b[0m \u001b[0mget_data_group\u001b[0m\u001b[0;34m(\u001b[0m\u001b[0muser_id\u001b[0m\u001b[0;34m)\u001b[0m\u001b[0;34m\u001b[0m\u001b[0m\n\u001b[0m\u001b[1;32m      9\u001b[0m   \u001b[0mcommedian_rating\u001b[0m \u001b[0;34m=\u001b[0m \u001b[0;36m0\u001b[0m\u001b[0;34m\u001b[0m\u001b[0m\n\u001b[1;32m     10\u001b[0m   \u001b[0mplace_rating\u001b[0m \u001b[0;34m=\u001b[0m \u001b[0;36m0\u001b[0m\u001b[0;34m\u001b[0m\u001b[0m\n",
            "\u001b[0;32m<ipython-input-21-cd62ef24498d>\u001b[0m in \u001b[0;36mget_data_group\u001b[0;34m(user_id)\u001b[0m\n\u001b[1;32m      4\u001b[0m     \u001b[0muser_data\u001b[0m \u001b[0;34m=\u001b[0m \u001b[0mpandas_dict\u001b[0m\u001b[0;34m[\u001b[0m\u001b[0muser_id\u001b[0m\u001b[0;34m]\u001b[0m\u001b[0;34m\u001b[0m\u001b[0m\n\u001b[1;32m      5\u001b[0m   \u001b[0;32melse\u001b[0m\u001b[0;34m:\u001b[0m\u001b[0;34m\u001b[0m\u001b[0m\n\u001b[0;32m----> 6\u001b[0;31m     \u001b[0muser_data\u001b[0m \u001b[0;34m=\u001b[0m \u001b[0mtrain_data\u001b[0m\u001b[0;34m.\u001b[0m\u001b[0mgroupby\u001b[0m\u001b[0;34m(\u001b[0m\u001b[0;34m'Viewers_ID'\u001b[0m\u001b[0;34m)\u001b[0m\u001b[0;34m.\u001b[0m\u001b[0mget_group\u001b[0m\u001b[0;34m(\u001b[0m\u001b[0muser_id\u001b[0m\u001b[0;34m)\u001b[0m\u001b[0;34m\u001b[0m\u001b[0m\n\u001b[0m\u001b[1;32m      7\u001b[0m     \u001b[0mpandas_dict\u001b[0m\u001b[0;34m[\u001b[0m\u001b[0muser_id\u001b[0m\u001b[0;34m]\u001b[0m \u001b[0;34m=\u001b[0m \u001b[0muser_data\u001b[0m\u001b[0;34m\u001b[0m\u001b[0m\n\u001b[1;32m      8\u001b[0m   \u001b[0;32mreturn\u001b[0m \u001b[0muser_data\u001b[0m\u001b[0;34m\u001b[0m\u001b[0m\n",
            "\u001b[0;32m/usr/local/lib/python3.6/dist-packages/pandas/core/groupby.py\u001b[0m in \u001b[0;36mget_group\u001b[0;34m(self, name, obj)\u001b[0m\n\u001b[1;32m    761\u001b[0m             \u001b[0mobj\u001b[0m \u001b[0;34m=\u001b[0m \u001b[0mself\u001b[0m\u001b[0;34m.\u001b[0m\u001b[0m_selected_obj\u001b[0m\u001b[0;34m\u001b[0m\u001b[0m\n\u001b[1;32m    762\u001b[0m \u001b[0;34m\u001b[0m\u001b[0m\n\u001b[0;32m--> 763\u001b[0;31m         \u001b[0minds\u001b[0m \u001b[0;34m=\u001b[0m \u001b[0mself\u001b[0m\u001b[0;34m.\u001b[0m\u001b[0m_get_index\u001b[0m\u001b[0;34m(\u001b[0m\u001b[0mname\u001b[0m\u001b[0;34m)\u001b[0m\u001b[0;34m\u001b[0m\u001b[0m\n\u001b[0m\u001b[1;32m    764\u001b[0m         \u001b[0;32mif\u001b[0m \u001b[0;32mnot\u001b[0m \u001b[0mlen\u001b[0m\u001b[0;34m(\u001b[0m\u001b[0minds\u001b[0m\u001b[0;34m)\u001b[0m\u001b[0;34m:\u001b[0m\u001b[0;34m\u001b[0m\u001b[0m\n\u001b[1;32m    765\u001b[0m             \u001b[0;32mraise\u001b[0m \u001b[0mKeyError\u001b[0m\u001b[0;34m(\u001b[0m\u001b[0mname\u001b[0m\u001b[0;34m)\u001b[0m\u001b[0;34m\u001b[0m\u001b[0m\n",
            "\u001b[0;32m/usr/local/lib/python3.6/dist-packages/pandas/core/groupby.py\u001b[0m in \u001b[0;36m_get_index\u001b[0;34m(self, name)\u001b[0m\n\u001b[1;32m    607\u001b[0m     \u001b[0;32mdef\u001b[0m \u001b[0m_get_index\u001b[0m\u001b[0;34m(\u001b[0m\u001b[0mself\u001b[0m\u001b[0;34m,\u001b[0m \u001b[0mname\u001b[0m\u001b[0;34m)\u001b[0m\u001b[0;34m:\u001b[0m\u001b[0;34m\u001b[0m\u001b[0m\n\u001b[1;32m    608\u001b[0m         \u001b[0;34m\"\"\" safe get index, translate keys for datelike to underlying repr \"\"\"\u001b[0m\u001b[0;34m\u001b[0m\u001b[0m\n\u001b[0;32m--> 609\u001b[0;31m         \u001b[0;32mreturn\u001b[0m \u001b[0mself\u001b[0m\u001b[0;34m.\u001b[0m\u001b[0m_get_indices\u001b[0m\u001b[0;34m(\u001b[0m\u001b[0;34m[\u001b[0m\u001b[0mname\u001b[0m\u001b[0;34m]\u001b[0m\u001b[0;34m)\u001b[0m\u001b[0;34m[\u001b[0m\u001b[0;36m0\u001b[0m\u001b[0;34m]\u001b[0m\u001b[0;34m\u001b[0m\u001b[0m\n\u001b[0m\u001b[1;32m    610\u001b[0m \u001b[0;34m\u001b[0m\u001b[0m\n\u001b[1;32m    611\u001b[0m     \u001b[0;34m@\u001b[0m\u001b[0mcache_readonly\u001b[0m\u001b[0;34m\u001b[0m\u001b[0m\n",
            "\u001b[0;32m/usr/local/lib/python3.6/dist-packages/pandas/core/groupby.py\u001b[0m in \u001b[0;36m_get_indices\u001b[0;34m(self, names)\u001b[0m\n\u001b[1;32m    574\u001b[0m             \u001b[0;32mreturn\u001b[0m \u001b[0;34m[\u001b[0m\u001b[0;34m]\u001b[0m\u001b[0;34m\u001b[0m\u001b[0m\n\u001b[1;32m    575\u001b[0m \u001b[0;34m\u001b[0m\u001b[0m\n\u001b[0;32m--> 576\u001b[0;31m         \u001b[0;32mif\u001b[0m \u001b[0mlen\u001b[0m\u001b[0;34m(\u001b[0m\u001b[0mself\u001b[0m\u001b[0;34m.\u001b[0m\u001b[0mindices\u001b[0m\u001b[0;34m)\u001b[0m \u001b[0;34m>\u001b[0m \u001b[0;36m0\u001b[0m\u001b[0;34m:\u001b[0m\u001b[0;34m\u001b[0m\u001b[0m\n\u001b[0m\u001b[1;32m    577\u001b[0m             \u001b[0mindex_sample\u001b[0m \u001b[0;34m=\u001b[0m \u001b[0mnext\u001b[0m\u001b[0;34m(\u001b[0m\u001b[0miter\u001b[0m\u001b[0;34m(\u001b[0m\u001b[0mself\u001b[0m\u001b[0;34m.\u001b[0m\u001b[0mindices\u001b[0m\u001b[0;34m)\u001b[0m\u001b[0;34m)\u001b[0m\u001b[0;34m\u001b[0m\u001b[0m\n\u001b[1;32m    578\u001b[0m         \u001b[0;32melse\u001b[0m\u001b[0;34m:\u001b[0m\u001b[0;34m\u001b[0m\u001b[0m\n",
            "\u001b[0;32m/usr/local/lib/python3.6/dist-packages/pandas/core/groupby.py\u001b[0m in \u001b[0;36mindices\u001b[0;34m(self)\u001b[0m\n\u001b[1;32m    553\u001b[0m         \u001b[0;34m\"\"\" dict {group name -> group indices} \"\"\"\u001b[0m\u001b[0;34m\u001b[0m\u001b[0m\n\u001b[1;32m    554\u001b[0m         \u001b[0mself\u001b[0m\u001b[0;34m.\u001b[0m\u001b[0m_assure_grouper\u001b[0m\u001b[0;34m(\u001b[0m\u001b[0;34m)\u001b[0m\u001b[0;34m\u001b[0m\u001b[0m\n\u001b[0;32m--> 555\u001b[0;31m         \u001b[0;32mreturn\u001b[0m \u001b[0mself\u001b[0m\u001b[0;34m.\u001b[0m\u001b[0mgrouper\u001b[0m\u001b[0;34m.\u001b[0m\u001b[0mindices\u001b[0m\u001b[0;34m\u001b[0m\u001b[0m\n\u001b[0m\u001b[1;32m    556\u001b[0m \u001b[0;34m\u001b[0m\u001b[0m\n\u001b[1;32m    557\u001b[0m     \u001b[0;32mdef\u001b[0m \u001b[0m_get_indices\u001b[0m\u001b[0;34m(\u001b[0m\u001b[0mself\u001b[0m\u001b[0;34m,\u001b[0m \u001b[0mnames\u001b[0m\u001b[0;34m)\u001b[0m\u001b[0;34m:\u001b[0m\u001b[0;34m\u001b[0m\u001b[0m\n",
            "\u001b[0;32mpandas/_libs/properties.pyx\u001b[0m in \u001b[0;36mpandas._libs.properties.cache_readonly.__get__\u001b[0;34m()\u001b[0m\n",
            "\u001b[0;32m/usr/local/lib/python3.6/dist-packages/pandas/core/groupby.py\u001b[0m in \u001b[0;36mindices\u001b[0;34m(self)\u001b[0m\n\u001b[1;32m   1978\u001b[0m         \u001b[0;34m\"\"\" dict {group name -> group indices} \"\"\"\u001b[0m\u001b[0;34m\u001b[0m\u001b[0m\n\u001b[1;32m   1979\u001b[0m         \u001b[0;32mif\u001b[0m \u001b[0mlen\u001b[0m\u001b[0;34m(\u001b[0m\u001b[0mself\u001b[0m\u001b[0;34m.\u001b[0m\u001b[0mgroupings\u001b[0m\u001b[0;34m)\u001b[0m \u001b[0;34m==\u001b[0m \u001b[0;36m1\u001b[0m\u001b[0;34m:\u001b[0m\u001b[0;34m\u001b[0m\u001b[0m\n\u001b[0;32m-> 1980\u001b[0;31m             \u001b[0;32mreturn\u001b[0m \u001b[0mself\u001b[0m\u001b[0;34m.\u001b[0m\u001b[0mgroupings\u001b[0m\u001b[0;34m[\u001b[0m\u001b[0;36m0\u001b[0m\u001b[0;34m]\u001b[0m\u001b[0;34m.\u001b[0m\u001b[0mindices\u001b[0m\u001b[0;34m\u001b[0m\u001b[0m\n\u001b[0m\u001b[1;32m   1981\u001b[0m         \u001b[0;32melse\u001b[0m\u001b[0;34m:\u001b[0m\u001b[0;34m\u001b[0m\u001b[0m\n\u001b[1;32m   1982\u001b[0m             \u001b[0mlabel_list\u001b[0m \u001b[0;34m=\u001b[0m \u001b[0;34m[\u001b[0m\u001b[0mping\u001b[0m\u001b[0;34m.\u001b[0m\u001b[0mlabels\u001b[0m \u001b[0;32mfor\u001b[0m \u001b[0mping\u001b[0m \u001b[0;32min\u001b[0m \u001b[0mself\u001b[0m\u001b[0;34m.\u001b[0m\u001b[0mgroupings\u001b[0m\u001b[0;34m]\u001b[0m\u001b[0;34m\u001b[0m\u001b[0m\n",
            "\u001b[0;32mpandas/_libs/properties.pyx\u001b[0m in \u001b[0;36mpandas._libs.properties.cache_readonly.__get__\u001b[0;34m()\u001b[0m\n",
            "\u001b[0;32m/usr/local/lib/python3.6/dist-packages/pandas/core/groupby.py\u001b[0m in \u001b[0;36mindices\u001b[0;34m(self)\u001b[0m\n\u001b[1;32m   2743\u001b[0m \u001b[0;34m\u001b[0m\u001b[0m\n\u001b[1;32m   2744\u001b[0m         \u001b[0mvalues\u001b[0m \u001b[0;34m=\u001b[0m \u001b[0m_ensure_categorical\u001b[0m\u001b[0;34m(\u001b[0m\u001b[0mself\u001b[0m\u001b[0;34m.\u001b[0m\u001b[0mgrouper\u001b[0m\u001b[0;34m)\u001b[0m\u001b[0;34m\u001b[0m\u001b[0m\n\u001b[0;32m-> 2745\u001b[0;31m         \u001b[0;32mreturn\u001b[0m \u001b[0mvalues\u001b[0m\u001b[0;34m.\u001b[0m\u001b[0m_reverse_indexer\u001b[0m\u001b[0;34m(\u001b[0m\u001b[0;34m)\u001b[0m\u001b[0;34m\u001b[0m\u001b[0m\n\u001b[0m\u001b[1;32m   2746\u001b[0m \u001b[0;34m\u001b[0m\u001b[0m\n\u001b[1;32m   2747\u001b[0m     \u001b[0;34m@\u001b[0m\u001b[0mproperty\u001b[0m\u001b[0;34m\u001b[0m\u001b[0m\n",
            "\u001b[0;32m/usr/local/lib/python3.6/dist-packages/pandas/core/categorical.py\u001b[0m in \u001b[0;36m_reverse_indexer\u001b[0;34m(self)\u001b[0m\n\u001b[1;32m   1952\u001b[0m         \u001b[0mcounts\u001b[0m \u001b[0;34m=\u001b[0m \u001b[0mcounts\u001b[0m\u001b[0;34m.\u001b[0m\u001b[0mcumsum\u001b[0m\u001b[0;34m(\u001b[0m\u001b[0;34m)\u001b[0m\u001b[0;34m\u001b[0m\u001b[0m\n\u001b[1;32m   1953\u001b[0m         result = [r[counts[indexer]:counts[indexer + 1]]\n\u001b[0;32m-> 1954\u001b[0;31m                   for indexer in range(len(counts) - 1)]\n\u001b[0m\u001b[1;32m   1955\u001b[0m         \u001b[0mresult\u001b[0m \u001b[0;34m=\u001b[0m \u001b[0mdict\u001b[0m\u001b[0;34m(\u001b[0m\u001b[0mzip\u001b[0m\u001b[0;34m(\u001b[0m\u001b[0mcategories\u001b[0m\u001b[0;34m,\u001b[0m \u001b[0mresult\u001b[0m\u001b[0;34m)\u001b[0m\u001b[0;34m)\u001b[0m\u001b[0;34m\u001b[0m\u001b[0m\n\u001b[1;32m   1956\u001b[0m         \u001b[0;32mreturn\u001b[0m \u001b[0mresult\u001b[0m\u001b[0;34m\u001b[0m\u001b[0m\n",
            "\u001b[0;32m/usr/local/lib/python3.6/dist-packages/pandas/core/categorical.py\u001b[0m in \u001b[0;36m<listcomp>\u001b[0;34m(.0)\u001b[0m\n\u001b[1;32m   1952\u001b[0m         \u001b[0mcounts\u001b[0m \u001b[0;34m=\u001b[0m \u001b[0mcounts\u001b[0m\u001b[0;34m.\u001b[0m\u001b[0mcumsum\u001b[0m\u001b[0;34m(\u001b[0m\u001b[0;34m)\u001b[0m\u001b[0;34m\u001b[0m\u001b[0m\n\u001b[1;32m   1953\u001b[0m         result = [r[counts[indexer]:counts[indexer + 1]]\n\u001b[0;32m-> 1954\u001b[0;31m                   for indexer in range(len(counts) - 1)]\n\u001b[0m\u001b[1;32m   1955\u001b[0m         \u001b[0mresult\u001b[0m \u001b[0;34m=\u001b[0m \u001b[0mdict\u001b[0m\u001b[0;34m(\u001b[0m\u001b[0mzip\u001b[0m\u001b[0;34m(\u001b[0m\u001b[0mcategories\u001b[0m\u001b[0;34m,\u001b[0m \u001b[0mresult\u001b[0m\u001b[0;34m)\u001b[0m\u001b[0;34m)\u001b[0m\u001b[0;34m\u001b[0m\u001b[0m\n\u001b[1;32m   1956\u001b[0m         \u001b[0;32mreturn\u001b[0m \u001b[0mresult\u001b[0m\u001b[0;34m\u001b[0m\u001b[0m\n",
            "\u001b[0;31mKeyboardInterrupt\u001b[0m: "
          ]
        }
      ]
    },
    {
      "metadata": {
        "id": "SFpksUpYHaxt",
        "colab_type": "code",
        "colab": {}
      },
      "cell_type": "code",
      "source": [
        "nonzero_indices = test_data['Rating'].nonzero()"
      ],
      "execution_count": 0,
      "outputs": []
    },
    {
      "metadata": {
        "id": "2crXr_j_dJrB",
        "colab_type": "code",
        "colab": {}
      },
      "cell_type": "code",
      "source": [
        "nonzero_values = test_data.iloc[nonzero_indices]"
      ],
      "execution_count": 0,
      "outputs": []
    },
    {
      "metadata": {
        "id": "iQTVgLcSe5hG",
        "colab_type": "code",
        "colab": {
          "base_uri": "https://localhost:8080/",
          "height": 284
        },
        "outputId": "91130acc-3eae-4a7c-81e1-6a307584539d"
      },
      "cell_type": "code",
      "source": [
        "nonzero_values.describe()"
      ],
      "execution_count": 56,
      "outputs": [
        {
          "output_type": "execute_result",
          "data": {
            "text/html": [
              "<div>\n",
              "<style scoped>\n",
              "    .dataframe tbody tr th:only-of-type {\n",
              "        vertical-align: middle;\n",
              "    }\n",
              "\n",
              "    .dataframe tbody tr th {\n",
              "        vertical-align: top;\n",
              "    }\n",
              "\n",
              "    .dataframe thead th {\n",
              "        text-align: right;\n",
              "    }\n",
              "</style>\n",
              "<table border=\"1\" class=\"dataframe\">\n",
              "  <thead>\n",
              "    <tr style=\"text-align: right;\">\n",
              "      <th></th>\n",
              "      <th>Viewers_ID</th>\n",
              "      <th>Jokes_ID</th>\n",
              "      <th>Version</th>\n",
              "      <th>Commedian_ID</th>\n",
              "      <th>Place_ID</th>\n",
              "      <th>Rating</th>\n",
              "    </tr>\n",
              "  </thead>\n",
              "  <tbody>\n",
              "    <tr>\n",
              "      <th>count</th>\n",
              "      <td>59585.000000</td>\n",
              "      <td>59585.000000</td>\n",
              "      <td>59585.000000</td>\n",
              "      <td>59585.000000</td>\n",
              "      <td>59585.000000</td>\n",
              "      <td>59585.000000</td>\n",
              "    </tr>\n",
              "    <tr>\n",
              "      <th>mean</th>\n",
              "      <td>21297.304573</td>\n",
              "      <td>95.321272</td>\n",
              "      <td>2.777125</td>\n",
              "      <td>8.802903</td>\n",
              "      <td>2.685139</td>\n",
              "      <td>1.329253</td>\n",
              "    </tr>\n",
              "    <tr>\n",
              "      <th>std</th>\n",
              "      <td>11999.491196</td>\n",
              "      <td>25.652427</td>\n",
              "      <td>1.193094</td>\n",
              "      <td>2.829196</td>\n",
              "      <td>2.407945</td>\n",
              "      <td>2.610660</td>\n",
              "    </tr>\n",
              "    <tr>\n",
              "      <th>min</th>\n",
              "      <td>6.000000</td>\n",
              "      <td>60.000000</td>\n",
              "      <td>1.000000</td>\n",
              "      <td>5.000000</td>\n",
              "      <td>0.000000</td>\n",
              "      <td>-5.000000</td>\n",
              "    </tr>\n",
              "    <tr>\n",
              "      <th>25%</th>\n",
              "      <td>10406.000000</td>\n",
              "      <td>71.000000</td>\n",
              "      <td>2.000000</td>\n",
              "      <td>6.000000</td>\n",
              "      <td>0.000000</td>\n",
              "      <td>0.111667</td>\n",
              "    </tr>\n",
              "    <tr>\n",
              "      <th>50%</th>\n",
              "      <td>21954.000000</td>\n",
              "      <td>81.000000</td>\n",
              "      <td>3.000000</td>\n",
              "      <td>7.000000</td>\n",
              "      <td>4.000000</td>\n",
              "      <td>1.445000</td>\n",
              "    </tr>\n",
              "    <tr>\n",
              "      <th>75%</th>\n",
              "      <td>32050.000000</td>\n",
              "      <td>120.000000</td>\n",
              "      <td>4.000000</td>\n",
              "      <td>12.000000</td>\n",
              "      <td>5.000000</td>\n",
              "      <td>3.510000</td>\n",
              "    </tr>\n",
              "    <tr>\n",
              "      <th>max</th>\n",
              "      <td>40855.000000</td>\n",
              "      <td>138.000000</td>\n",
              "      <td>5.000000</td>\n",
              "      <td>13.000000</td>\n",
              "      <td>5.000000</td>\n",
              "      <td>5.000000</td>\n",
              "    </tr>\n",
              "  </tbody>\n",
              "</table>\n",
              "</div>"
            ],
            "text/plain": [
              "         Viewers_ID      Jokes_ID       Version  Commedian_ID      Place_ID  \\\n",
              "count  59585.000000  59585.000000  59585.000000  59585.000000  59585.000000   \n",
              "mean   21297.304573     95.321272      2.777125      8.802903      2.685139   \n",
              "std    11999.491196     25.652427      1.193094      2.829196      2.407945   \n",
              "min        6.000000     60.000000      1.000000      5.000000      0.000000   \n",
              "25%    10406.000000     71.000000      2.000000      6.000000      0.000000   \n",
              "50%    21954.000000     81.000000      3.000000      7.000000      4.000000   \n",
              "75%    32050.000000    120.000000      4.000000     12.000000      5.000000   \n",
              "max    40855.000000    138.000000      5.000000     13.000000      5.000000   \n",
              "\n",
              "             Rating  \n",
              "count  59585.000000  \n",
              "mean       1.329253  \n",
              "std        2.610660  \n",
              "min       -5.000000  \n",
              "25%        0.111667  \n",
              "50%        1.445000  \n",
              "75%        3.510000  \n",
              "max        5.000000  "
            ]
          },
          "metadata": {
            "tags": []
          },
          "execution_count": 56
        }
      ]
    },
    {
      "metadata": {
        "id": "X09j8nwbv3Dg",
        "colab_type": "code",
        "colab": {}
      },
      "cell_type": "code",
      "source": [
        "train_data = train_data.append(nonzero_values)\n",
        "len(train_data)"
      ],
      "execution_count": 0,
      "outputs": []
    },
    {
      "metadata": {
        "id": "nHYciOmIucqi",
        "colab_type": "code",
        "colab": {
          "base_uri": "https://localhost:8080/",
          "height": 343
        },
        "outputId": "e2413ab0-c977-41b5-ee78-1c8e1b7fbbd8"
      },
      "cell_type": "code",
      "source": [
        "train_data.head()"
      ],
      "execution_count": 25,
      "outputs": [
        {
          "output_type": "execute_result",
          "data": {
            "text/html": [
              "<div>\n",
              "<style scoped>\n",
              "    .dataframe tbody tr th:only-of-type {\n",
              "        vertical-align: middle;\n",
              "    }\n",
              "\n",
              "    .dataframe tbody tr th {\n",
              "        vertical-align: top;\n",
              "    }\n",
              "\n",
              "    .dataframe thead th {\n",
              "        text-align: right;\n",
              "    }\n",
              "</style>\n",
              "<table border=\"1\" class=\"dataframe\">\n",
              "  <thead>\n",
              "    <tr style=\"text-align: right;\">\n",
              "      <th></th>\n",
              "      <th>Commedian</th>\n",
              "      <th>Commedian_ID</th>\n",
              "      <th>Joke_identifier</th>\n",
              "      <th>Jokes_ID</th>\n",
              "      <th>Place</th>\n",
              "      <th>Place_ID</th>\n",
              "      <th>Rating</th>\n",
              "      <th>Response_ID</th>\n",
              "      <th>Version</th>\n",
              "      <th>Viewers_ID</th>\n",
              "    </tr>\n",
              "  </thead>\n",
              "  <tbody>\n",
              "    <tr>\n",
              "      <th>0</th>\n",
              "      <td>Klint De Drunk</td>\n",
              "      <td>9</td>\n",
              "      <td>Klint De Drunk Enugu 1</td>\n",
              "      <td>96</td>\n",
              "      <td>Enugu</td>\n",
              "      <td>3</td>\n",
              "      <td>0.11</td>\n",
              "      <td>A1_Klint De Drunk Enugu 1</td>\n",
              "      <td>1.0</td>\n",
              "      <td>1.0</td>\n",
              "    </tr>\n",
              "    <tr>\n",
              "      <th>1</th>\n",
              "      <td>Klint De Drunk</td>\n",
              "      <td>9</td>\n",
              "      <td>Klint De Drunk Enugu 2</td>\n",
              "      <td>97</td>\n",
              "      <td>Enugu</td>\n",
              "      <td>3</td>\n",
              "      <td>-4.64</td>\n",
              "      <td>A1_Klint De Drunk Enugu 2</td>\n",
              "      <td>2.0</td>\n",
              "      <td>1.0</td>\n",
              "    </tr>\n",
              "    <tr>\n",
              "      <th>2</th>\n",
              "      <td>Klint De Drunk</td>\n",
              "      <td>9</td>\n",
              "      <td>Klint De Drunk PH 1</td>\n",
              "      <td>102</td>\n",
              "      <td>PH</td>\n",
              "      <td>7</td>\n",
              "      <td>-3.39</td>\n",
              "      <td>A1_Klint De Drunk PH 1</td>\n",
              "      <td>1.0</td>\n",
              "      <td>1.0</td>\n",
              "    </tr>\n",
              "    <tr>\n",
              "      <th>3</th>\n",
              "      <td>Klint De Drunk</td>\n",
              "      <td>9</td>\n",
              "      <td>Klint De Drunk PH 2</td>\n",
              "      <td>103</td>\n",
              "      <td>PH</td>\n",
              "      <td>7</td>\n",
              "      <td>0.44</td>\n",
              "      <td>A1_Klint De Drunk PH 2</td>\n",
              "      <td>2.0</td>\n",
              "      <td>1.0</td>\n",
              "    </tr>\n",
              "    <tr>\n",
              "      <th>4</th>\n",
              "      <td>Klint De Drunk</td>\n",
              "      <td>9</td>\n",
              "      <td>Klint De Drunk Lagos 1</td>\n",
              "      <td>99</td>\n",
              "      <td>Lagos</td>\n",
              "      <td>5</td>\n",
              "      <td>-4.83</td>\n",
              "      <td>A1_Klint De Drunk Lagos 1</td>\n",
              "      <td>1.0</td>\n",
              "      <td>1.0</td>\n",
              "    </tr>\n",
              "  </tbody>\n",
              "</table>\n",
              "</div>"
            ],
            "text/plain": [
              "        Commedian  Commedian_ID         Joke_identifier  Jokes_ID  Place  \\\n",
              "0  Klint De Drunk             9  Klint De Drunk Enugu 1        96  Enugu   \n",
              "1  Klint De Drunk             9  Klint De Drunk Enugu 2        97  Enugu   \n",
              "2  Klint De Drunk             9     Klint De Drunk PH 1       102     PH   \n",
              "3  Klint De Drunk             9     Klint De Drunk PH 2       103     PH   \n",
              "4  Klint De Drunk             9  Klint De Drunk Lagos 1        99  Lagos   \n",
              "\n",
              "   Place_ID  Rating                Response_ID  Version  Viewers_ID  \n",
              "0         3    0.11  A1_Klint De Drunk Enugu 1      1.0         1.0  \n",
              "1         3   -4.64  A1_Klint De Drunk Enugu 2      2.0         1.0  \n",
              "2         7   -3.39     A1_Klint De Drunk PH 1      1.0         1.0  \n",
              "3         7    0.44     A1_Klint De Drunk PH 2      2.0         1.0  \n",
              "4         5   -4.83  A1_Klint De Drunk Lagos 1      1.0         1.0  "
            ]
          },
          "metadata": {
            "tags": []
          },
          "execution_count": 25
        }
      ]
    },
    {
      "metadata": {
        "id": "H_hZ1lSav8P_",
        "colab_type": "text"
      },
      "cell_type": "markdown",
      "source": [
        "# Training and Prediction \n",
        "Now that data augmentation process is done, I can now use the svd process from the \n",
        "surprise package to train and predict using the augmentated data."
      ]
    },
    {
      "metadata": {
        "id": "dZfRxE6rfeFg",
        "colab_type": "code",
        "colab": {
          "base_uri": "https://localhost:8080/",
          "height": 253
        },
        "outputId": "10d2e331-a4b1-4fc5-fa2f-cce67bcf0d01"
      },
      "cell_type": "code",
      "source": [
        "!pip install scikit-surprise==1.0.5"
      ],
      "execution_count": 27,
      "outputs": [
        {
          "output_type": "stream",
          "text": [
            "Collecting scikit-surprise==1.0.5\n",
            "\u001b[?25l  Downloading https://files.pythonhosted.org/packages/a4/a3/70a00e68fd212b37ad4a14d9e3bc417ee11535c036c2534bf9c3bd4c6876/scikit-surprise-1.0.5.tar.gz (2.4MB)\n",
            "\u001b[K    100% |████████████████████████████████| 2.4MB 5.0MB/s \n",
            "\u001b[?25hRequirement already satisfied: numpy>=1.11.2 in /usr/local/lib/python3.6/dist-packages (from scikit-surprise==1.0.5) (1.14.6)\n",
            "Requirement already satisfied: six>=1.10.0 in /usr/local/lib/python3.6/dist-packages (from scikit-surprise==1.0.5) (1.11.0)\n",
            "Requirement already satisfied: joblib>=0.11 in /usr/local/lib/python3.6/dist-packages (from scikit-surprise==1.0.5) (0.12.5)\n",
            "Building wheels for collected packages: scikit-surprise\n",
            "  Running setup.py bdist_wheel for scikit-surprise ... \u001b[?25l-\b \b\\\b \b|\b \b/\b \b-\b \b\\\b \b|\b \b/\b \b-\b \b\\\b \b|\b \b/\b \b-\b \b\\\b \b|\b \bdone\n",
            "\u001b[?25h  Stored in directory: /root/.cache/pip/wheels/f8/5e/34/656c22616c1a80ccb5fda84e8f116537dc6a0412c2203f57ad\n",
            "Successfully built scikit-surprise\n",
            "Installing collected packages: scikit-surprise\n",
            "Successfully installed scikit-surprise-1.0.5\n"
          ],
          "name": "stdout"
        }
      ]
    },
    {
      "metadata": {
        "id": "3cA1LK4ufoaO",
        "colab_type": "code",
        "colab": {}
      },
      "cell_type": "code",
      "source": [
        "from surprise.model_selection import train_test_split\n",
        "from surprise import SVD"
      ],
      "execution_count": 0,
      "outputs": []
    },
    {
      "metadata": {
        "id": "iGV4JE4Bfy1x",
        "colab_type": "code",
        "colab": {}
      },
      "cell_type": "code",
      "source": [
        "from surprise import accuracy, Reader, Dataset\n",
        "\n",
        "reader = Reader(rating_scale=(-5, 5))\n",
        "data_train = Dataset.load_from_df(train_data[['Viewers_ID', 'Jokes_ID', 'Rating']], reader)\n",
        "test_data['Rating'] = 0\n",
        "data_test = Dataset.load_from_df(test_data[['Viewers_ID', 'Jokes_ID', 'Rating']], reader)"
      ],
      "execution_count": 0,
      "outputs": []
    },
    {
      "metadata": {
        "id": "-xga9v6ZvTh3",
        "colab_type": "code",
        "colab": {}
      },
      "cell_type": "code",
      "source": [
        "from tqdm import tqdm"
      ],
      "execution_count": 0,
      "outputs": []
    },
    {
      "metadata": {
        "id": "KlNs3b3OgTLA",
        "colab_type": "code",
        "colab": {
          "base_uri": "https://localhost:8080/",
          "height": 71
        },
        "outputId": "dcaedc91-fdf2-4d0f-8c65-2ab4cc04d7af"
      },
      "cell_type": "code",
      "source": [
        "trainset, testset = train_test_split(data_train, train_size=0.75)\n",
        "algo = SVD(n_epochs=50, lr_all=0.005, reg_all=0.2)\n",
        "tqdm(algo.fit(trainset))\n",
        "predictions = algo.test(testset)\n",
        "accuracy.rmse(predictions)"
      ],
      "execution_count": 31,
      "outputs": [
        {
          "output_type": "stream",
          "text": [
            "\r0it [00:00, ?it/s]\n"
          ],
          "name": "stderr"
        },
        {
          "output_type": "stream",
          "text": [
            "RMSE: 2.1292\n"
          ],
          "name": "stdout"
        },
        {
          "output_type": "execute_result",
          "data": {
            "text/plain": [
              "2.1291750559603764"
            ]
          },
          "metadata": {
            "tags": []
          },
          "execution_count": 31
        }
      ]
    },
    {
      "metadata": {
        "id": "5Bi4hAU3ikCj",
        "colab_type": "code",
        "colab": {
          "base_uri": "https://localhost:8080/",
          "height": 35
        },
        "outputId": "6590c62b-93c3-4fd8-d6db-b14f900c88c4"
      },
      "cell_type": "code",
      "source": [
        "trainset = data_train.build_full_trainset()\n",
        "algo = SVD(n_epochs=50, lr_all=0.005, reg_all=0.2)\n",
        "algo.fit(trainset)"
      ],
      "execution_count": 33,
      "outputs": [
        {
          "output_type": "execute_result",
          "data": {
            "text/plain": [
              "<surprise.prediction_algorithms.matrix_factorization.SVD at 0x7f94a8b125c0>"
            ]
          },
          "metadata": {
            "tags": []
          },
          "execution_count": 33
        }
      ]
    },
    {
      "metadata": {
        "id": "OJ8zHHr4gqTP",
        "colab_type": "code",
        "colab": {}
      },
      "cell_type": "code",
      "source": [
        "def define_prediction(x):\n",
        "  pred = algo.predict(x['Viewers_ID'], x['Jokes_ID'])\n",
        "  return pred.est\n",
        "\n",
        "test_data['Rating'] = test_data.apply(define_prediction, axis=1)"
      ],
      "execution_count": 0,
      "outputs": []
    },
    {
      "metadata": {
        "id": "GL3uby9fg7Vm",
        "colab_type": "code",
        "colab": {}
      },
      "cell_type": "code",
      "source": [
        "result = test_data[['Response_ID', 'Rating']]"
      ],
      "execution_count": 0,
      "outputs": []
    },
    {
      "metadata": {
        "id": "LtEGsNusg-tw",
        "colab_type": "code",
        "colab": {}
      },
      "cell_type": "code",
      "source": [
        "result.to_csv('submission.csv', index=None)"
      ],
      "execution_count": 0,
      "outputs": []
    }
  ]
}